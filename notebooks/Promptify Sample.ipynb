{
 "cells": [
  {
   "cell_type": "markdown",
   "metadata": {},
   "source": [
    "<h2>Features 🚀</h2>\n",
    "<ul>\n",
    "  <li>🧙‍♀️ NLP in 2 lines of code with no training data required</li>\n",
    "  <li>🔨 Easily add one shot, two shot, or few shot examples to the prompt</li>\n",
    "  <li>✌ Output always provided as a Python object (e.g. list, dictionary) for easy parsing and filtering</li>\n",
    "  <li>💥 Custom examples and samples can be easily added to the prompt</li>\n",
    "  <li>💰 Optimized prompts to reduce OpenAI token costs (coming soon)</li>\n",
    "</ul>"
   ]
  },
  {
   "cell_type": "markdown",
   "metadata": {},
   "source": [
    "## Load Azure OpenAI API Credentials"
   ]
  },
  {
   "cell_type": "code",
   "execution_count": 1,
   "metadata": {},
   "outputs": [
    {
     "name": "stdout",
     "output_type": "stream",
     "text": [
      "API_KEY: 3be6ba13cc1f4a16bd5293d8feba2036\n",
      "API BASE: https://openailx.openai.azure.com/\n",
      "API VERSION: 2023-08-01-preview\n",
      "API TYPE: azure\n"
     ]
    }
   ],
   "source": [
    "# Import necessary modules\n",
    "import os\n",
    "from dotenv import load_dotenv, find_dotenv\n",
    "\n",
    "# Load environment variables from .env file\n",
    "load_dotenv(find_dotenv())\n",
    "\n",
    "# Retrieve API credentials from environment variables\n",
    "api_key = os.environ.get(\"OPENAI_API_KEY\")\n",
    "api_base = os.environ.get(\"OPENAI_API_BASE\")\n",
    "api_version = os.environ.get(\"OPENAI_API_VERSION\")\n",
    "api_type = os.environ.get(\"OPENAI_API_TYPE\")\n",
    "\n",
    "# Print API credentials\n",
    "print(f'API_KEY: {api_key}')\n",
    "print(f'API BASE: {api_base}')\n",
    "print(f'API VERSION: {api_version}')\n",
    "print(f'API TYPE: {api_type}')"
   ]
  },
  {
   "cell_type": "markdown",
   "metadata": {},
   "source": [
    "## Define any LLM model (such as GPT-3) ✅"
   ]
  },
  {
   "cell_type": "code",
   "execution_count": 2,
   "metadata": {},
   "outputs": [
    {
     "name": "stdout",
     "output_type": "stream",
     "text": [
      "The patient is a 93-year-old female with a medical history of chronic right hip pain, osteoporosis, hypertension, depression, and chronic atrial fibrillation admitted for evaluation and management of severe nausea and vomiting and urinary tract infection\n"
     ]
    }
   ],
   "source": [
    "from promptify import Prompter, OpenAI, Pipeline, Azure\n",
    "import json\n",
    "import pprint\n",
    "\n",
    "# Create an instance of the OpenAI model\n",
    "model = Azure(api_key=api_key, api_base=api_base, api_version=api_version, api_type=api_type, engine='gpt-35-turbo')\n",
    "\n",
    "# Example sentence for demonstration\n",
    "sent = \"The patient is a 93-year-old female with a medical history of chronic right hip pain, \\\n",
    "osteoporosis, hypertension, depression, and chronic atrial fibrillation admitted for evaluation \\\n",
    "and management of severe nausea and vomiting and urinary tract infection\"\n",
    "print(sent)"
   ]
  },
  {
   "cell_type": "markdown",
   "metadata": {},
   "source": [
    "### 1: MultiLabel Text Classification Example in 2 Lines of code, with no training data required 🚀"
   ]
  },
  {
   "cell_type": "code",
   "execution_count": 3,
   "metadata": {},
   "outputs": [
    {
     "name": "stderr",
     "output_type": "stream",
     "text": [
      "100%|██████████| 1/1 [00:03<00:00,  3.39s/it]"
     ]
    },
    {
     "name": "stdout",
     "output_type": "stream",
     "text": [
      "[{'1': 'Gastrointestinal Symptoms',\n",
      "  '2': 'Nausea and Vomiting',\n",
      "  'branch': 'Evaluation and Management',\n",
      "  'group': 'Admission',\n",
      "  'main class': 'Symptoms and Complaints'},\n",
      " {'1': 'Musculoskeletal Diseases',\n",
      "  '2': 'Bone Diseases',\n",
      "  'branch': 'Medical History',\n",
      "  'group': 'Chronic',\n",
      "  'main class': 'Diseases and Disorders'},\n",
      " {'1': 'Circulatory and Respiratory Diseases',\n",
      "  '2': 'Cardiovascular Diseases',\n",
      "  '3': 'Arrhythmias, Cardiac',\n",
      "  'branch': 'Medical History',\n",
      "  'group': 'Chronic',\n",
      "  'main class': 'Diseases and Disorders'}]\n"
     ]
    },
    {
     "name": "stderr",
     "output_type": "stream",
     "text": [
      "\n"
     ]
    }
   ],
   "source": [
    "prompter = Prompter('multilabel_classification.jinja')\n",
    "pipe = Pipeline(prompter, model)\n",
    "result = pipe.fit(domain          = 'clinical', # it could be any domain such as -> financial, education, biomedical etc\n",
    "                  text_input      = sent,\n",
    "                  labels          = None,\n",
    "                  n_output_labels = 3\n",
    "                )\n",
    "try:\n",
    "    output = result[0].get('text').replace(\"'\", '\"')\n",
    "    output_dict = json.loads(output)\n",
    "except Exception as e:\n",
    "    print(f\"An unexpected error occurred: {e}\") \n",
    "\n",
    "# Output\n",
    "pprint.pprint(output_dict)"
   ]
  },
  {
   "cell_type": "markdown",
   "metadata": {},
   "source": [
    "### 2: MultiLabel Text Classification with Custom Classes 🚀"
   ]
  },
  {
   "cell_type": "code",
   "execution_count": 4,
   "metadata": {},
   "outputs": [
    {
     "name": "stderr",
     "output_type": "stream",
     "text": [
      "100%|██████████| 1/1 [00:02<00:00,  2.68s/it]"
     ]
    },
    {
     "name": "stdout",
     "output_type": "stream",
     "text": [
      "[{'1': 'Geriatrics',\n",
      "  '2': 'Chronic pain',\n",
      "  'branch': 'Evaluation and management',\n",
      "  'group': 'Admission',\n",
      "  'main class': 'Medicine'},\n",
      " {'1': 'Geriatrics',\n",
      "  '2': 'Osteoporosis',\n",
      "  'branch': 'Evaluation and management',\n",
      "  'group': 'Admission',\n",
      "  'main class': 'Medicine'},\n",
      " {'1': 'Cardiology',\n",
      "  '2': 'Atrial fibrillation',\n",
      "  'branch': 'Evaluation and management',\n",
      "  'group': 'Admission',\n",
      "  'main class': 'Medicine'},\n",
      " {'1': 'Cardiology',\n",
      "  '2': 'Hypertension',\n",
      "  'branch': 'Evaluation and management',\n",
      "  'group': 'Admission',\n",
      "  'main class': 'Medicine'},\n",
      " {'1': 'Gastroenterology',\n",
      "  '2': 'Nausea and vomiting',\n",
      "  'branch': 'Evaluation and management',\n",
      "  'group': 'Admission',\n",
      "  'main class': 'Medicine'},\n",
      " {'1': 'Urology',\n",
      "  '2': 'Urinary tract infection',\n",
      "  'branch': 'Evaluation and management',\n",
      "  'group': 'Admission',\n",
      "  'main class': 'Medicine'}]\n"
     ]
    },
    {
     "name": "stderr",
     "output_type": "stream",
     "text": [
      "\n"
     ]
    }
   ],
   "source": [
    "# Case: 2\n",
    "# If want to perform MultiLabel Text Classification with custom classes only (hangling out-of-bounds prediction) prompt\n",
    "\n",
    "classes = ['Medicine','Oncology','Metastasis','Breast cancer','Lung cancer','Cerebrospinal fluid','Tumor microenvironment','Single-cell RNA sequencing','Idiopathic intracranial hypertension']\n",
    "\n",
    "result = pipe.fit(n_output_labels = len(classes),\n",
    "                  domain          = 'clinical',\n",
    "                  text_input      = sent,\n",
    "                  labels          = classes\n",
    "                )\n",
    "try:\n",
    "    output = result[0].get('text').replace(\"'\", '\"')\n",
    "    output_dict = json.loads(output)\n",
    "except Exception as e:\n",
    "    print(f\"An unexpected error occurred: {e}\")\n",
    "\n",
    "# Output\n",
    "pprint.pprint(output_dict)"
   ]
  },
  {
   "cell_type": "markdown",
   "metadata": {},
   "source": [
    "### 3 : MultiLabel Text Classification with One shot Example 🚀"
   ]
  },
  {
   "cell_type": "code",
   "execution_count": 5,
   "metadata": {},
   "outputs": [
    {
     "name": "stderr",
     "output_type": "stream",
     "text": [
      "  0%|          | 0/1 [00:22<?, ?it/s]"
     ]
    },
    {
     "name": "stdout",
     "output_type": "stream",
     "text": [
      "Error in model execution: RetryError[<Future at 0x7fdd672ae740 state=finished raised RateLimitError>]\n",
      "An unexpected error occurred: 'NoneType' object is not subscriptable\n",
      "[{'1': 'Geriatrics',\n",
      "  '2': 'Chronic pain',\n",
      "  'branch': 'Evaluation and management',\n",
      "  'group': 'Admission',\n",
      "  'main class': 'Medicine'},\n",
      " {'1': 'Geriatrics',\n",
      "  '2': 'Osteoporosis',\n",
      "  'branch': 'Evaluation and management',\n",
      "  'group': 'Admission',\n",
      "  'main class': 'Medicine'},\n",
      " {'1': 'Cardiology',\n",
      "  '2': 'Atrial fibrillation',\n",
      "  'branch': 'Evaluation and management',\n",
      "  'group': 'Admission',\n",
      "  'main class': 'Medicine'},\n",
      " {'1': 'Cardiology',\n",
      "  '2': 'Hypertension',\n",
      "  'branch': 'Evaluation and management',\n",
      "  'group': 'Admission',\n",
      "  'main class': 'Medicine'},\n",
      " {'1': 'Gastroenterology',\n",
      "  '2': 'Nausea and vomiting',\n",
      "  'branch': 'Evaluation and management',\n",
      "  'group': 'Admission',\n",
      "  'main class': 'Medicine'},\n",
      " {'1': 'Urology',\n",
      "  '2': 'Urinary tract infection',\n",
      "  'branch': 'Evaluation and management',\n",
      "  'group': 'Admission',\n",
      "  'main class': 'Medicine'}]\n"
     ]
    },
    {
     "name": "stderr",
     "output_type": "stream",
     "text": [
      "\n"
     ]
    }
   ],
   "source": [
    "# Case: 3\n",
    "# If want to perform MultiLabel Text Classification wit one shot example adding by default\n",
    "# Observe The changes in the model's output\n",
    "# Output will be python object -> [[{\"main class\":  main classification category, \"1\": 1st level category, \"2\": 2nd level category, ...., \"branch\": sentence branch, \"group\": group of sentence}]]\n",
    "\n",
    "one_shot = \"Leptomeningeal metastases (LM) occur in patients with breast cancer (BC) and lung cancer (LC). The cerebrospinal fluid (CSF) tumour microenvironment (TME) of LM patients is not well defined at a single-cell level. We did an analysis based on single-cell RNA sequencing (scRNA-seq) data and four patient-derived CSF samples of idiopathic intracranial hypertension (IIH)\"\n",
    "one_shot = [[one_shot, {'main class': 'Health', '1': 'Medicine', '2': 'Oncology', '3': 'Metastasis', '4': 'Breast cancer', '5': 'Lung cancer', '6': 'Cerebrospinal fluid', '7': 'Tumor microenvironment', '8': 'Single-cell RNA sequencing', '9': 'Idiopathic intracranial hypertension', 'branch': 'Health', 'group': 'Clinical medicine'}]]\n",
    "\n",
    "classes = ['Medicine','Oncology','Metastasis','Breast cancer','Lung cancer','Cerebrospinal fluid','Tumor microenvironment','Single-cell RNA sequencing','Idiopathic intracranial hypertension']\n",
    "\n",
    "result = pipe.fit(n_output_labels = len(classes),\n",
    "                  domain          = 'clinical',\n",
    "                  text_input      = sent,\n",
    "                  examples        = one_shot,\n",
    "                  labels          = classes)\n",
    "try:\n",
    "    output = result[0].get('text').replace(\"'\", '\"')\n",
    "    output_dict = json.loads(output)\n",
    "except Exception as e:\n",
    "    print(f\"An unexpected error occurred: {e}\")\n",
    "\n",
    "# Output\n",
    "pprint.pprint(output_dict)"
   ]
  },
  {
   "cell_type": "markdown",
   "metadata": {},
   "source": [
    "### 4: MultiLabel Text Classification with some Domain Knowledge 🚀"
   ]
  },
  {
   "cell_type": "code",
   "execution_count": 6,
   "metadata": {},
   "outputs": [
    {
     "name": "stderr",
     "output_type": "stream",
     "text": [
      "  0%|          | 0/1 [00:09<?, ?it/s]"
     ]
    },
    {
     "name": "stdout",
     "output_type": "stream",
     "text": [
      "Error in model execution: RetryError[<Future at 0x7fdd913ab940 state=finished raised RateLimitError>]\n",
      "An unexpected error occurred: 'NoneType' object is not subscriptable\n",
      "[{'1': 'Geriatrics',\n",
      "  '2': 'Chronic pain',\n",
      "  'branch': 'Evaluation and management',\n",
      "  'group': 'Admission',\n",
      "  'main class': 'Medicine'},\n",
      " {'1': 'Geriatrics',\n",
      "  '2': 'Osteoporosis',\n",
      "  'branch': 'Evaluation and management',\n",
      "  'group': 'Admission',\n",
      "  'main class': 'Medicine'},\n",
      " {'1': 'Cardiology',\n",
      "  '2': 'Atrial fibrillation',\n",
      "  'branch': 'Evaluation and management',\n",
      "  'group': 'Admission',\n",
      "  'main class': 'Medicine'},\n",
      " {'1': 'Cardiology',\n",
      "  '2': 'Hypertension',\n",
      "  'branch': 'Evaluation and management',\n",
      "  'group': 'Admission',\n",
      "  'main class': 'Medicine'},\n",
      " {'1': 'Gastroenterology',\n",
      "  '2': 'Nausea and vomiting',\n",
      "  'branch': 'Evaluation and management',\n",
      "  'group': 'Admission',\n",
      "  'main class': 'Medicine'},\n",
      " {'1': 'Urology',\n",
      "  '2': 'Urinary tract infection',\n",
      "  'branch': 'Evaluation and management',\n",
      "  'group': 'Admission',\n",
      "  'main class': 'Medicine'}]\n"
     ]
    },
    {
     "name": "stderr",
     "output_type": "stream",
     "text": [
      "\n"
     ]
    }
   ],
   "source": [
    "# Case : 4\n",
    "# If want to give some domain knowledge and description in prompt to enhance the output\n",
    "\n",
    "one_shot = \"Leptomeningeal metastases (LM) occur in patients with breast cancer (BC) and lung cancer (LC). The cerebrospinal fluid (CSF) tumour microenvironment (TME) of LM patients is not well defined at a single-cell level. We did an analysis based on single-cell RNA sequencing (scRNA-seq) data and four patient-derived CSF samples of idiopathic intracranial hypertension (IIH)\"\n",
    "one_shot = [[one_shot, {'main class': 'Health', '1': 'Medicine', '2': 'Oncology', '3': 'Metastasis', '4': 'Breast cancer', '5': 'Lung cancer', '6': 'Cerebrospinal fluid', '7': 'Tumor microenvironment', '8': 'Single-cell RNA sequencing', '9': 'Idiopathic intracranial hypertension', 'branch': 'Health', 'group': 'Clinical medicine'}]]\n",
    "classes = ['Medicine','Oncology','Metastasis','Breast cancer','Lung cancer','Cerebrospinal fluid','Tumor microenvironment','Single-cell RNA sequencing','Idiopathic intracranial hypertension']\n",
    "\n",
    "result = pipe.fit(n_output_labels = len(classes),\n",
    "                  domain          = 'clinical',\n",
    "                  text_input      = sent,\n",
    "                  examples        = one_shot,\n",
    "                  description     = \"Below Paragraph is from discharge summary of a patient. The Paragraph describes the condition and symptoms of patient.\",\n",
    "                  labels          = classes)\n",
    "try:\n",
    "    output = result[0].get('text').replace(\"'\", '\"')\n",
    "    output_dict = json.loads(output)\n",
    "except Exception as e:\n",
    "    print(f\"An unexpected error occurred: {e}\")\n",
    "\n",
    "# Output\n",
    "pprint.pprint(output_dict)"
   ]
  },
  {
   "cell_type": "markdown",
   "metadata": {},
   "source": [
    "### Name Entity Recognition (NER) Example"
   ]
  },
  {
   "cell_type": "code",
   "execution_count": 7,
   "metadata": {},
   "outputs": [
    {
     "name": "stderr",
     "output_type": "stream",
     "text": [
      "100%|██████████| 1/1 [00:26<00:00, 26.88s/it]"
     ]
    },
    {
     "name": "stdout",
     "output_type": "stream",
     "text": [
      "[{'E': '93', 'T': 'age'},\n",
      " {'E': 'female', 'T': 'gender'},\n",
      " {'E': 'chronic right hip pain', 'T': 'medical_condition'},\n",
      " {'E': 'osteoporosis', 'T': 'medical_condition'},\n",
      " {'E': 'hypertension', 'T': 'medical_condition'},\n",
      " {'E': 'depression', 'T': 'medical_condition'},\n",
      " {'E': 'chronic atrial fibrillation', 'T': 'medical_condition'},\n",
      " {'E': 'severe nausea', 'T': 'symptom'},\n",
      " {'E': 'vomiting', 'T': 'symptom'},\n",
      " {'E': 'urinary tract infection', 'T': 'medical_condition'},\n",
      " {'branch': 'medical', 'group': 'patient'}]\n"
     ]
    },
    {
     "name": "stderr",
     "output_type": "stream",
     "text": [
      "\n"
     ]
    }
   ],
   "source": [
    "# NER example\n",
    "\n",
    "text_input = \"\"\"The patient is a 93-year-old female with a medical \\\n",
    "history of chronic right hip pain, osteoporosis, hypertension, depression, and chronic atrial \\\n",
    "fibrillation admitted for evaluation and management\tof severe nausea and vomiting and urinary tract \n",
    "infection\"\"\"\n",
    "\n",
    "prompter = Prompter('ner.jinja')\n",
    "pipe = Pipeline(prompter, model)\n",
    "result = pipe.fit(text_input = text_input,\n",
    "                  domain = 'medical',\n",
    "                  labels = None\n",
    "                )\n",
    "try:\n",
    "    output = result[0].get('text').replace(\"'\", '\"')\n",
    "    output_dict = json.loads(output)\n",
    "except Exception as e:\n",
    "    print(f\"An unexpected error occurred: {e}\")\n",
    "\n",
    "# Output\n",
    "pprint.pprint(output_dict)"
   ]
  },
  {
   "cell_type": "markdown",
   "metadata": {},
   "source": [
    "### MultiClass Text Classification Example"
   ]
  },
  {
   "cell_type": "code",
   "execution_count": 8,
   "metadata": {},
   "outputs": [
    {
     "name": "stderr",
     "output_type": "stream",
     "text": [
      "  0%|          | 0/1 [00:00<?, ?it/s]\n"
     ]
    },
    {
     "ename": "TypeError",
     "evalue": "Object of type set is not JSON serializable",
     "output_type": "error",
     "traceback": [
      "\u001b[0;31m---------------------------------------------------------------------------\u001b[0m",
      "\u001b[0;31mTypeError\u001b[0m                                 Traceback (most recent call last)",
      "\u001b[1;32m/workspaces/codespaces-jupyter/notebooks/Custom NER.ipynb Cell 17\u001b[0m line \u001b[0;36m6\n\u001b[1;32m      <a href='vscode-notebook-cell://codespaces%2Bredesigned-broccoli-75vpjjq9q5jfpx4/workspaces/codespaces-jupyter/notebooks/Custom%20NER.ipynb#X50sdnNjb2RlLXJlbW90ZQ%3D%3D?line=3'>4</a>\u001b[0m prompter \u001b[39m=\u001b[39m Prompter(\u001b[39m'\u001b[39m\u001b[39mmulticlass_classification.jinja\u001b[39m\u001b[39m'\u001b[39m)\n\u001b[1;32m      <a href='vscode-notebook-cell://codespaces%2Bredesigned-broccoli-75vpjjq9q5jfpx4/workspaces/codespaces-jupyter/notebooks/Custom%20NER.ipynb#X50sdnNjb2RlLXJlbW90ZQ%3D%3D?line=4'>5</a>\u001b[0m pipe \u001b[39m=\u001b[39m Pipeline(prompter, model)\n\u001b[0;32m----> <a href='vscode-notebook-cell://codespaces%2Bredesigned-broccoli-75vpjjq9q5jfpx4/workspaces/codespaces-jupyter/notebooks/Custom%20NER.ipynb#X50sdnNjb2RlLXJlbW90ZQ%3D%3D?line=5'>6</a>\u001b[0m result \u001b[39m=\u001b[39m pipe\u001b[39m.\u001b[39;49mfit(text_input \u001b[39m=\u001b[39;49m \u001b[39m\"\u001b[39;49m\u001b[39mThe customer service is pretty good but it can be better.\u001b[39;49m\u001b[39m\"\u001b[39;49m,\n\u001b[1;32m      <a href='vscode-notebook-cell://codespaces%2Bredesigned-broccoli-75vpjjq9q5jfpx4/workspaces/codespaces-jupyter/notebooks/Custom%20NER.ipynb#X50sdnNjb2RlLXJlbW90ZQ%3D%3D?line=6'>7</a>\u001b[0m                   labels \u001b[39m=\u001b[39;49m labels\n\u001b[1;32m      <a href='vscode-notebook-cell://codespaces%2Bredesigned-broccoli-75vpjjq9q5jfpx4/workspaces/codespaces-jupyter/notebooks/Custom%20NER.ipynb#X50sdnNjb2RlLXJlbW90ZQ%3D%3D?line=7'>8</a>\u001b[0m                 )\n\u001b[1;32m      <a href='vscode-notebook-cell://codespaces%2Bredesigned-broccoli-75vpjjq9q5jfpx4/workspaces/codespaces-jupyter/notebooks/Custom%20NER.ipynb#X50sdnNjb2RlLXJlbW90ZQ%3D%3D?line=8'>9</a>\u001b[0m \u001b[39mtry\u001b[39;00m:\n\u001b[1;32m     <a href='vscode-notebook-cell://codespaces%2Bredesigned-broccoli-75vpjjq9q5jfpx4/workspaces/codespaces-jupyter/notebooks/Custom%20NER.ipynb#X50sdnNjb2RlLXJlbW90ZQ%3D%3D?line=9'>10</a>\u001b[0m     output \u001b[39m=\u001b[39m result[\u001b[39m0\u001b[39m]\u001b[39m.\u001b[39mget(\u001b[39m'\u001b[39m\u001b[39mtext\u001b[39m\u001b[39m'\u001b[39m)\u001b[39m.\u001b[39mreplace(\u001b[39m\"\u001b[39m\u001b[39m'\u001b[39m\u001b[39m\"\u001b[39m, \u001b[39m'\u001b[39m\u001b[39m\"\u001b[39m\u001b[39m'\u001b[39m)\n",
      "File \u001b[0;32m/workspaces/codespaces-jupyter/venv/lib/python3.10/site-packages/promptify/pipelines/__init__.py:77\u001b[0m, in \u001b[0;36mPipeline.fit\u001b[0;34m(self, text_input, **kwargs)\u001b[0m\n\u001b[1;32m     72\u001b[0m     \u001b[39melse\u001b[39;00m:\n\u001b[1;32m     73\u001b[0m         message \u001b[39m=\u001b[39m create_message(\n\u001b[1;32m     74\u001b[0m             template, variables_dict, output, \u001b[39mNone\u001b[39;00m, prompt_name\n\u001b[1;32m     75\u001b[0m         )\n\u001b[0;32m---> 77\u001b[0m     \u001b[39mself\u001b[39;49m\u001b[39m.\u001b[39;49mlogger\u001b[39m.\u001b[39;49madd_message(message)\n\u001b[1;32m     78\u001b[0m     outputs_list\u001b[39m.\u001b[39mappend(output)\n\u001b[1;32m     80\u001b[0m \u001b[39mreturn\u001b[39;00m outputs_list\n",
      "File \u001b[0;32m/workspaces/codespaces-jupyter/venv/lib/python3.10/site-packages/promptify/prompter/conversation_logger.py:41\u001b[0m, in \u001b[0;36mConversationLogger.add_message\u001b[0;34m(self, message)\u001b[0m\n\u001b[1;32m     39\u001b[0m message_id \u001b[39m=\u001b[39m \u001b[39mstr\u001b[39m(uuid\u001b[39m.\u001b[39muuid4())\n\u001b[1;32m     40\u001b[0m \u001b[39mself\u001b[39m\u001b[39m.\u001b[39mconversation[\u001b[39m\"\u001b[39m\u001b[39mmessages\u001b[39m\u001b[39m\"\u001b[39m]\u001b[39m.\u001b[39mappend(message)\n\u001b[0;32m---> 41\u001b[0m write_json(\u001b[39mself\u001b[39;49m\u001b[39m.\u001b[39;49mconversation_path, \u001b[39mself\u001b[39;49m\u001b[39m.\u001b[39;49mconversation, message_id)\n",
      "File \u001b[0;32m/workspaces/codespaces-jupyter/venv/lib/python3.10/site-packages/promptify/utils/file_utils.py:45\u001b[0m, in \u001b[0;36mwrite_json\u001b[0;34m(path, data, file_name)\u001b[0m\n\u001b[1;32m     43\u001b[0m \u001b[39mtry\u001b[39;00m:\n\u001b[1;32m     44\u001b[0m     \u001b[39mwith\u001b[39;00m \u001b[39mopen\u001b[39m(full_path, \u001b[39m\"\u001b[39m\u001b[39mw\u001b[39m\u001b[39m\"\u001b[39m, encoding\u001b[39m=\u001b[39m\u001b[39m\"\u001b[39m\u001b[39mutf-8\u001b[39m\u001b[39m\"\u001b[39m) \u001b[39mas\u001b[39;00m f:\n\u001b[0;32m---> 45\u001b[0m         json\u001b[39m.\u001b[39;49mdump(data, f, ensure_ascii\u001b[39m=\u001b[39;49m\u001b[39mFalse\u001b[39;49;00m, indent\u001b[39m=\u001b[39;49m\u001b[39m4\u001b[39;49m)\n\u001b[1;32m     46\u001b[0m \u001b[39mexcept\u001b[39;00m \u001b[39mIOError\u001b[39;00m \u001b[39mas\u001b[39;00m e:\n\u001b[1;32m     47\u001b[0m     \u001b[39mraise\u001b[39;00m \u001b[39mIOError\u001b[39;00m(\u001b[39mf\u001b[39m\u001b[39m\"\u001b[39m\u001b[39mError writing JSON file \u001b[39m\u001b[39m'\u001b[39m\u001b[39m{\u001b[39;00mfull_path\u001b[39m}\u001b[39;00m\u001b[39m'\u001b[39m\u001b[39m: \u001b[39m\u001b[39m{\u001b[39;00me\u001b[39m.\u001b[39mstrerror\u001b[39m}\u001b[39;00m\u001b[39m\"\u001b[39m)\n",
      "File \u001b[0;32m/usr/local/python/3.10.13/lib/python3.10/json/__init__.py:179\u001b[0m, in \u001b[0;36mdump\u001b[0;34m(obj, fp, skipkeys, ensure_ascii, check_circular, allow_nan, cls, indent, separators, default, sort_keys, **kw)\u001b[0m\n\u001b[1;32m    173\u001b[0m     iterable \u001b[39m=\u001b[39m \u001b[39mcls\u001b[39m(skipkeys\u001b[39m=\u001b[39mskipkeys, ensure_ascii\u001b[39m=\u001b[39mensure_ascii,\n\u001b[1;32m    174\u001b[0m         check_circular\u001b[39m=\u001b[39mcheck_circular, allow_nan\u001b[39m=\u001b[39mallow_nan, indent\u001b[39m=\u001b[39mindent,\n\u001b[1;32m    175\u001b[0m         separators\u001b[39m=\u001b[39mseparators,\n\u001b[1;32m    176\u001b[0m         default\u001b[39m=\u001b[39mdefault, sort_keys\u001b[39m=\u001b[39msort_keys, \u001b[39m*\u001b[39m\u001b[39m*\u001b[39mkw)\u001b[39m.\u001b[39miterencode(obj)\n\u001b[1;32m    177\u001b[0m \u001b[39m# could accelerate with writelines in some versions of Python, at\u001b[39;00m\n\u001b[1;32m    178\u001b[0m \u001b[39m# a debuggability cost\u001b[39;00m\n\u001b[0;32m--> 179\u001b[0m \u001b[39mfor\u001b[39;00m chunk \u001b[39min\u001b[39;00m iterable:\n\u001b[1;32m    180\u001b[0m     fp\u001b[39m.\u001b[39mwrite(chunk)\n",
      "File \u001b[0;32m/usr/local/python/3.10.13/lib/python3.10/json/encoder.py:431\u001b[0m, in \u001b[0;36m_make_iterencode.<locals>._iterencode\u001b[0;34m(o, _current_indent_level)\u001b[0m\n\u001b[1;32m    429\u001b[0m     \u001b[39myield from\u001b[39;00m _iterencode_list(o, _current_indent_level)\n\u001b[1;32m    430\u001b[0m \u001b[39melif\u001b[39;00m \u001b[39misinstance\u001b[39m(o, \u001b[39mdict\u001b[39m):\n\u001b[0;32m--> 431\u001b[0m     \u001b[39myield from\u001b[39;00m _iterencode_dict(o, _current_indent_level)\n\u001b[1;32m    432\u001b[0m \u001b[39melse\u001b[39;00m:\n\u001b[1;32m    433\u001b[0m     \u001b[39mif\u001b[39;00m markers \u001b[39mis\u001b[39;00m \u001b[39mnot\u001b[39;00m \u001b[39mNone\u001b[39;00m:\n",
      "File \u001b[0;32m/usr/local/python/3.10.13/lib/python3.10/json/encoder.py:405\u001b[0m, in \u001b[0;36m_make_iterencode.<locals>._iterencode_dict\u001b[0;34m(dct, _current_indent_level)\u001b[0m\n\u001b[1;32m    403\u001b[0m         \u001b[39melse\u001b[39;00m:\n\u001b[1;32m    404\u001b[0m             chunks \u001b[39m=\u001b[39m _iterencode(value, _current_indent_level)\n\u001b[0;32m--> 405\u001b[0m         \u001b[39myield from\u001b[39;00m chunks\n\u001b[1;32m    406\u001b[0m \u001b[39mif\u001b[39;00m newline_indent \u001b[39mis\u001b[39;00m \u001b[39mnot\u001b[39;00m \u001b[39mNone\u001b[39;00m:\n\u001b[1;32m    407\u001b[0m     _current_indent_level \u001b[39m-\u001b[39m\u001b[39m=\u001b[39m \u001b[39m1\u001b[39m\n",
      "File \u001b[0;32m/usr/local/python/3.10.13/lib/python3.10/json/encoder.py:325\u001b[0m, in \u001b[0;36m_make_iterencode.<locals>._iterencode_list\u001b[0;34m(lst, _current_indent_level)\u001b[0m\n\u001b[1;32m    323\u001b[0m         \u001b[39melse\u001b[39;00m:\n\u001b[1;32m    324\u001b[0m             chunks \u001b[39m=\u001b[39m _iterencode(value, _current_indent_level)\n\u001b[0;32m--> 325\u001b[0m         \u001b[39myield from\u001b[39;00m chunks\n\u001b[1;32m    326\u001b[0m \u001b[39mif\u001b[39;00m newline_indent \u001b[39mis\u001b[39;00m \u001b[39mnot\u001b[39;00m \u001b[39mNone\u001b[39;00m:\n\u001b[1;32m    327\u001b[0m     _current_indent_level \u001b[39m-\u001b[39m\u001b[39m=\u001b[39m \u001b[39m1\u001b[39m\n",
      "File \u001b[0;32m/usr/local/python/3.10.13/lib/python3.10/json/encoder.py:405\u001b[0m, in \u001b[0;36m_make_iterencode.<locals>._iterencode_dict\u001b[0;34m(dct, _current_indent_level)\u001b[0m\n\u001b[1;32m    403\u001b[0m         \u001b[39melse\u001b[39;00m:\n\u001b[1;32m    404\u001b[0m             chunks \u001b[39m=\u001b[39m _iterencode(value, _current_indent_level)\n\u001b[0;32m--> 405\u001b[0m         \u001b[39myield from\u001b[39;00m chunks\n\u001b[1;32m    406\u001b[0m \u001b[39mif\u001b[39;00m newline_indent \u001b[39mis\u001b[39;00m \u001b[39mnot\u001b[39;00m \u001b[39mNone\u001b[39;00m:\n\u001b[1;32m    407\u001b[0m     _current_indent_level \u001b[39m-\u001b[39m\u001b[39m=\u001b[39m \u001b[39m1\u001b[39m\n",
      "File \u001b[0;32m/usr/local/python/3.10.13/lib/python3.10/json/encoder.py:405\u001b[0m, in \u001b[0;36m_make_iterencode.<locals>._iterencode_dict\u001b[0;34m(dct, _current_indent_level)\u001b[0m\n\u001b[1;32m    403\u001b[0m         \u001b[39melse\u001b[39;00m:\n\u001b[1;32m    404\u001b[0m             chunks \u001b[39m=\u001b[39m _iterencode(value, _current_indent_level)\n\u001b[0;32m--> 405\u001b[0m         \u001b[39myield from\u001b[39;00m chunks\n\u001b[1;32m    406\u001b[0m \u001b[39mif\u001b[39;00m newline_indent \u001b[39mis\u001b[39;00m \u001b[39mnot\u001b[39;00m \u001b[39mNone\u001b[39;00m:\n\u001b[1;32m    407\u001b[0m     _current_indent_level \u001b[39m-\u001b[39m\u001b[39m=\u001b[39m \u001b[39m1\u001b[39m\n",
      "File \u001b[0;32m/usr/local/python/3.10.13/lib/python3.10/json/encoder.py:438\u001b[0m, in \u001b[0;36m_make_iterencode.<locals>._iterencode\u001b[0;34m(o, _current_indent_level)\u001b[0m\n\u001b[1;32m    436\u001b[0m         \u001b[39mraise\u001b[39;00m \u001b[39mValueError\u001b[39;00m(\u001b[39m\"\u001b[39m\u001b[39mCircular reference detected\u001b[39m\u001b[39m\"\u001b[39m)\n\u001b[1;32m    437\u001b[0m     markers[markerid] \u001b[39m=\u001b[39m o\n\u001b[0;32m--> 438\u001b[0m o \u001b[39m=\u001b[39m _default(o)\n\u001b[1;32m    439\u001b[0m \u001b[39myield from\u001b[39;00m _iterencode(o, _current_indent_level)\n\u001b[1;32m    440\u001b[0m \u001b[39mif\u001b[39;00m markers \u001b[39mis\u001b[39;00m \u001b[39mnot\u001b[39;00m \u001b[39mNone\u001b[39;00m:\n",
      "File \u001b[0;32m/usr/local/python/3.10.13/lib/python3.10/json/encoder.py:179\u001b[0m, in \u001b[0;36mJSONEncoder.default\u001b[0;34m(self, o)\u001b[0m\n\u001b[1;32m    160\u001b[0m \u001b[39mdef\u001b[39;00m \u001b[39mdefault\u001b[39m(\u001b[39mself\u001b[39m, o):\n\u001b[1;32m    161\u001b[0m \u001b[39m    \u001b[39m\u001b[39m\"\"\"Implement this method in a subclass such that it returns\u001b[39;00m\n\u001b[1;32m    162\u001b[0m \u001b[39m    a serializable object for ``o``, or calls the base implementation\u001b[39;00m\n\u001b[1;32m    163\u001b[0m \u001b[39m    (to raise a ``TypeError``).\u001b[39;00m\n\u001b[0;32m   (...)\u001b[0m\n\u001b[1;32m    177\u001b[0m \n\u001b[1;32m    178\u001b[0m \u001b[39m    \"\"\"\u001b[39;00m\n\u001b[0;32m--> 179\u001b[0m     \u001b[39mraise\u001b[39;00m \u001b[39mTypeError\u001b[39;00m(\u001b[39mf\u001b[39m\u001b[39m'\u001b[39m\u001b[39mObject of type \u001b[39m\u001b[39m{\u001b[39;00mo\u001b[39m.\u001b[39m\u001b[39m__class__\u001b[39m\u001b[39m.\u001b[39m\u001b[39m__name__\u001b[39m\u001b[39m}\u001b[39;00m\u001b[39m \u001b[39m\u001b[39m'\u001b[39m\n\u001b[1;32m    180\u001b[0m                     \u001b[39mf\u001b[39m\u001b[39m'\u001b[39m\u001b[39mis not JSON serializable\u001b[39m\u001b[39m'\u001b[39m)\n",
      "\u001b[0;31mTypeError\u001b[0m: Object of type set is not JSON serializable"
     ]
    }
   ],
   "source": [
    "# Multiclass text classification example\n",
    "labels = {'surprise', 'neutral', 'hate', 'joy', 'worry', 'sadness'}\n",
    "\n",
    "prompter = Prompter('multiclass_classification.jinja')\n",
    "pipe = Pipeline(prompter, model)\n",
    "result = pipe.fit(text_input = \"The customer service is pretty good but it can be better.\",\n",
    "                  labels = labels\n",
    "                )\n",
    "try:\n",
    "    output = result[0].get('text').replace(\"'\", '\"')\n",
    "    output_dict = json.loads(output)\n",
    "except Exception as e:\n",
    "    print(f\"An unexpected error occurred: {e}\")\n",
    "\n",
    "# Output\n",
    "pprint.pprint(output_dict)"
   ]
  },
  {
   "cell_type": "markdown",
   "metadata": {},
   "source": [
    "### Binary Text Classification Example"
   ]
  },
  {
   "cell_type": "code",
   "execution_count": 9,
   "metadata": {},
   "outputs": [
    {
     "name": "stderr",
     "output_type": "stream",
     "text": [
      "  0%|          | 0/1 [00:00<?, ?it/s]\n"
     ]
    },
    {
     "ename": "TypeError",
     "evalue": "Prompter.generate() got multiple values for argument 'model_name'",
     "output_type": "error",
     "traceback": [
      "\u001b[0;31m---------------------------------------------------------------------------\u001b[0m",
      "\u001b[0;31mTypeError\u001b[0m                                 Traceback (most recent call last)",
      "\u001b[1;32m/workspaces/codespaces-jupyter/notebooks/Custom NER.ipynb Cell 19\u001b[0m line \u001b[0;36m3\n\u001b[1;32m      <a href='vscode-notebook-cell://codespaces%2Bredesigned-broccoli-75vpjjq9q5jfpx4/workspaces/codespaces-jupyter/notebooks/Custom%20NER.ipynb#X51sdnNjb2RlLXJlbW90ZQ%3D%3D?line=0'>1</a>\u001b[0m prompter \u001b[39m=\u001b[39m Prompter(\u001b[39m'\u001b[39m\u001b[39mbinary_classification.jinja\u001b[39m\u001b[39m'\u001b[39m)\n\u001b[1;32m      <a href='vscode-notebook-cell://codespaces%2Bredesigned-broccoli-75vpjjq9q5jfpx4/workspaces/codespaces-jupyter/notebooks/Custom%20NER.ipynb#X51sdnNjb2RlLXJlbW90ZQ%3D%3D?line=1'>2</a>\u001b[0m pipe \u001b[39m=\u001b[39m Pipeline(prompter, model)\n\u001b[0;32m----> <a href='vscode-notebook-cell://codespaces%2Bredesigned-broccoli-75vpjjq9q5jfpx4/workspaces/codespaces-jupyter/notebooks/Custom%20NER.ipynb#X51sdnNjb2RlLXJlbW90ZQ%3D%3D?line=2'>3</a>\u001b[0m result \u001b[39m=\u001b[39m pipe\u001b[39m.\u001b[39;49mfit(text_input \u001b[39m=\u001b[39;49m \u001b[39m\"\u001b[39;49m\u001b[39mThe customer service is pretty good but it can be better.\u001b[39;49m\u001b[39m\"\u001b[39;49m, \n\u001b[1;32m      <a href='vscode-notebook-cell://codespaces%2Bredesigned-broccoli-75vpjjq9q5jfpx4/workspaces/codespaces-jupyter/notebooks/Custom%20NER.ipynb#X51sdnNjb2RlLXJlbW90ZQ%3D%3D?line=3'>4</a>\u001b[0m                   label_0 \u001b[39m=\u001b[39;49m \u001b[39m\"\u001b[39;49m\u001b[39mpositive\u001b[39;49m\u001b[39m\"\u001b[39;49m,\n\u001b[1;32m      <a href='vscode-notebook-cell://codespaces%2Bredesigned-broccoli-75vpjjq9q5jfpx4/workspaces/codespaces-jupyter/notebooks/Custom%20NER.ipynb#X51sdnNjb2RlLXJlbW90ZQ%3D%3D?line=4'>5</a>\u001b[0m                   label_1 \u001b[39m=\u001b[39;49m \u001b[39m\"\u001b[39;49m\u001b[39mnegative\u001b[39;49m\u001b[39m\"\u001b[39;49m,\n\u001b[1;32m      <a href='vscode-notebook-cell://codespaces%2Bredesigned-broccoli-75vpjjq9q5jfpx4/workspaces/codespaces-jupyter/notebooks/Custom%20NER.ipynb#X51sdnNjb2RlLXJlbW90ZQ%3D%3D?line=5'>6</a>\u001b[0m                   model_name \u001b[39m=\u001b[39;49m \u001b[39m\"\u001b[39;49m\u001b[39mgpt-3.5-turbo\u001b[39;49m\u001b[39m\"\u001b[39;49m\n\u001b[1;32m      <a href='vscode-notebook-cell://codespaces%2Bredesigned-broccoli-75vpjjq9q5jfpx4/workspaces/codespaces-jupyter/notebooks/Custom%20NER.ipynb#X51sdnNjb2RlLXJlbW90ZQ%3D%3D?line=6'>7</a>\u001b[0m                 )\n\u001b[1;32m      <a href='vscode-notebook-cell://codespaces%2Bredesigned-broccoli-75vpjjq9q5jfpx4/workspaces/codespaces-jupyter/notebooks/Custom%20NER.ipynb#X51sdnNjb2RlLXJlbW90ZQ%3D%3D?line=7'>8</a>\u001b[0m \u001b[39mtry\u001b[39;00m:\n\u001b[1;32m      <a href='vscode-notebook-cell://codespaces%2Bredesigned-broccoli-75vpjjq9q5jfpx4/workspaces/codespaces-jupyter/notebooks/Custom%20NER.ipynb#X51sdnNjb2RlLXJlbW90ZQ%3D%3D?line=8'>9</a>\u001b[0m     output \u001b[39m=\u001b[39m result[\u001b[39m0\u001b[39m]\u001b[39m.\u001b[39mget(\u001b[39m'\u001b[39m\u001b[39mtext\u001b[39m\u001b[39m'\u001b[39m)\u001b[39m.\u001b[39mreplace(\u001b[39m\"\u001b[39m\u001b[39m'\u001b[39m\u001b[39m\"\u001b[39m, \u001b[39m'\u001b[39m\u001b[39m\"\u001b[39m\u001b[39m'\u001b[39m)\n",
      "File \u001b[0;32m/workspaces/codespaces-jupyter/venv/lib/python3.10/site-packages/promptify/pipelines/__init__.py:45\u001b[0m, in \u001b[0;36mPipeline.fit\u001b[0;34m(self, text_input, **kwargs)\u001b[0m\n\u001b[1;32m     43\u001b[0m \u001b[39mfor\u001b[39;00m prompter \u001b[39min\u001b[39;00m tqdm(\u001b[39mself\u001b[39m\u001b[39m.\u001b[39mprompters):\n\u001b[1;32m     44\u001b[0m     \u001b[39mtry\u001b[39;00m:\n\u001b[0;32m---> 45\u001b[0m         template, variables_dict \u001b[39m=\u001b[39m prompter\u001b[39m.\u001b[39;49mgenerate(text_input, \u001b[39mself\u001b[39;49m\u001b[39m.\u001b[39;49mmodel\u001b[39m.\u001b[39;49mmodel, \u001b[39m*\u001b[39;49m\u001b[39m*\u001b[39;49mkwargs)\n\u001b[1;32m     47\u001b[0m     \u001b[39mexcept\u001b[39;00m \u001b[39mValueError\u001b[39;00m \u001b[39mas\u001b[39;00m e:\n\u001b[1;32m     48\u001b[0m         \u001b[39mprint\u001b[39m(\u001b[39mf\u001b[39m\u001b[39m\"\u001b[39m\u001b[39mError in generating prompt: \u001b[39m\u001b[39m{\u001b[39;00me\u001b[39m}\u001b[39;00m\u001b[39m\"\u001b[39m)\n",
      "\u001b[0;31mTypeError\u001b[0m: Prompter.generate() got multiple values for argument 'model_name'"
     ]
    }
   ],
   "source": [
    "prompter = Prompter('binary_classification.jinja')\n",
    "pipe = Pipeline(prompter, model)\n",
    "result = pipe.fit(text_input = \"The customer service is pretty good but it can be better.\", \n",
    "                  label_0 = \"positive\",\n",
    "                  label_1 = \"negative\",\n",
    "                  model_name = \"gpt-3.5-turbo\"\n",
    "                )\n",
    "try:\n",
    "    output = result[0].get('text').replace(\"'\", '\"')\n",
    "    output_dict = json.loads(output)\n",
    "except Exception as e:\n",
    "    print(f\"An unexpected error occurred: {e}\")\n",
    "\n",
    "# Output\n",
    "pprint.pprint(output_dict)"
   ]
  },
  {
   "cell_type": "code",
   "execution_count": null,
   "metadata": {},
   "outputs": [],
   "source": []
  }
 ],
 "metadata": {
  "kernelspec": {
   "display_name": "Python 3",
   "language": "python",
   "name": "python3"
  },
  "language_info": {
   "codemirror_mode": {
    "name": "ipython",
    "version": 3
   },
   "file_extension": ".py",
   "mimetype": "text/x-python",
   "name": "python",
   "nbconvert_exporter": "python",
   "pygments_lexer": "ipython3",
   "version": "3.10.13"
  }
 },
 "nbformat": 4,
 "nbformat_minor": 2
}
